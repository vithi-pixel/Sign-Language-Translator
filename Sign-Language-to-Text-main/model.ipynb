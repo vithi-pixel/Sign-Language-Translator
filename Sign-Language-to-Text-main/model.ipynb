{
 "cells": [
  {
   "cell_type": "markdown",
   "id": "f80dc60e",
   "metadata": {},
   "source": [
    "# Sign Language to Text"
   ]
  },
  {
   "cell_type": "markdown",
   "id": "5422a563",
   "metadata": {},
   "source": [
    "## Importing the Libraries"
   ]
  },
  {
   "cell_type": "code",
   "execution_count": 1,
   "id": "70e37ee3",
   "metadata": {},
   "outputs": [],
   "source": [
    "import numpy as np\n",
    "import pandas as pd\n",
    "import matplotlib.pyplot as plt\n",
    "import tensorflow as tf\n",
    "from keras.preprocessing.image import ImageDataGenerator\n",
    "from keras.preprocessing import image\n",
    "import cv2\n",
    "import joblib"
   ]
  },
  {
   "cell_type": "markdown",
   "id": "748b1999",
   "metadata": {},
   "source": [
    "## Importing Dataset"
   ]
  },
  {
   "cell_type": "markdown",
   "id": "064be7e6",
   "metadata": {},
   "source": [
    "### Preprocessing the Training Set"
   ]
  },
  {
   "cell_type": "code",
   "execution_count": 2,
   "id": "04a1ab37",
   "metadata": {},
   "outputs": [
    {
     "name": "stdout",
     "output_type": "stream",
     "text": [
      "Found 8640 images belonging to 9 classes.\n"
     ]
    }
   ],
   "source": [
    "train_datagen = ImageDataGenerator(rescale = 1./255,\n",
    "                                   shear_range = 0.2,\n",
    "                                   zoom_range = 0.2,\n",
    "                                   horizontal_flip = True)\n",
    "training_set = train_datagen.flow_from_directory('dataset/training_set_bw',\n",
    "                                                 target_size = (128, 128),\n",
    "                                                 batch_size = 32,\n",
    "                                                 color_mode='grayscale',\n",
    "                                                 class_mode = 'categorical')"
   ]
  },
  {
   "cell_type": "markdown",
   "id": "7ee72218",
   "metadata": {},
   "source": [
    "### Preprocessing the Test Set"
   ]
  },
  {
   "cell_type": "code",
   "execution_count": 3,
   "id": "41467f43",
   "metadata": {},
   "outputs": [
    {
     "name": "stdout",
     "output_type": "stream",
     "text": [
      "Found 2160 images belonging to 9 classes.\n"
     ]
    }
   ],
   "source": [
    "test_datagen = ImageDataGenerator(rescale = 1./255)\n",
    "test_set = test_datagen.flow_from_directory('dataset/test_set_bw',\n",
    "                                           target_size = (128,128),\n",
    "                                           batch_size = 32,\n",
    "                                            color_mode='grayscale',\n",
    "                                           class_mode = 'categorical')"
   ]
  },
  {
   "cell_type": "markdown",
   "id": "c1b6dae6",
   "metadata": {},
   "source": [
    "## Buildding the CNN Model"
   ]
  },
  {
   "cell_type": "markdown",
   "id": "e0a7541f",
   "metadata": {},
   "source": [
    "### Initializing the CNN"
   ]
  },
  {
   "cell_type": "code",
   "execution_count": 4,
   "id": "99c19949",
   "metadata": {},
   "outputs": [],
   "source": [
    "cnn = tf.keras.models.Sequential()"
   ]
  },
  {
   "cell_type": "markdown",
   "id": "cdc95f08",
   "metadata": {},
   "source": [
    "### Adding first convolution layer"
   ]
  },
  {
   "cell_type": "code",
   "execution_count": 5,
   "id": "cab3bacc",
   "metadata": {},
   "outputs": [],
   "source": [
    "cnn.add(tf.keras.layers.Conv2D(filters=32,\n",
    "                               kernel_size=3,\n",
    "                               activation=\"relu\",\n",
    "                               input_shape=[128, 128, 1]))"
   ]
  },
  {
   "cell_type": "markdown",
   "id": "4c62ccf0",
   "metadata": {},
   "source": [
    "### Adding first max pooling layer"
   ]
  },
  {
   "cell_type": "code",
   "execution_count": 6,
   "id": "144b3d5a",
   "metadata": {},
   "outputs": [],
   "source": [
    "cnn.add(tf.keras.layers.MaxPool2D(pool_size=2, strides=2))"
   ]
  },
  {
   "cell_type": "markdown",
   "id": "c978c59f",
   "metadata": {},
   "source": [
    "### Adding second convolution layer"
   ]
  },
  {
   "cell_type": "code",
   "execution_count": 7,
   "id": "a3390ff7",
   "metadata": {},
   "outputs": [],
   "source": [
    "cnn.add(tf.keras.layers.Conv2D(filters=32,\n",
    "                               kernel_size=5,\n",
    "                               activation=\"relu\"))"
   ]
  },
  {
   "cell_type": "markdown",
   "id": "21e24044",
   "metadata": {},
   "source": [
    "### Adding second max pooling layer"
   ]
  },
  {
   "cell_type": "code",
   "execution_count": 8,
   "id": "8e91bb13",
   "metadata": {},
   "outputs": [],
   "source": [
    "cnn.add(tf.keras.layers.MaxPool2D(pool_size=2, strides=2))"
   ]
  },
  {
   "cell_type": "markdown",
   "id": "862c3013",
   "metadata": {},
   "source": [
    "### Flattening the matrix of features"
   ]
  },
  {
   "cell_type": "code",
   "execution_count": 9,
   "id": "24c6cb24",
   "metadata": {},
   "outputs": [],
   "source": [
    "cnn.add(tf.keras.layers.Flatten())"
   ]
  },
  {
   "cell_type": "markdown",
   "id": "f96bade6",
   "metadata": {},
   "source": [
    "### Adding the fully connected layer"
   ]
  },
  {
   "cell_type": "code",
   "execution_count": 10,
   "id": "1e2f0768",
   "metadata": {},
   "outputs": [],
   "source": [
    "cnn.add(tf.keras.layers.Dense(units=128, activation=\"relu\"))\n",
    "cnn.add(tf.keras.layers.Dropout(0.40))\n",
    "cnn.add(tf.keras.layers.Dense(units=96, activation='relu'))\n",
    "cnn.add(tf.keras.layers.Dropout(0.40))\n",
    "cnn.add(tf.keras.layers.Dense(units=64, activation='relu'))"
   ]
  },
  {
   "cell_type": "markdown",
   "id": "fdfb224a",
   "metadata": {},
   "source": [
    "### Adding the output layer"
   ]
  },
  {
   "cell_type": "code",
   "execution_count": 11,
   "id": "51031242",
   "metadata": {},
   "outputs": [],
   "source": [
    "cnn.add(tf.keras.layers.Dense(units=9, activation=\"softmax\"))"
   ]
  },
  {
   "cell_type": "markdown",
   "id": "6a539a70",
   "metadata": {},
   "source": [
    "## Training the CNN"
   ]
  },
  {
   "cell_type": "code",
   "execution_count": 12,
   "id": "87256c1e",
   "metadata": {},
   "outputs": [],
   "source": [
    "cnn.compile(optimizer=\"adam\", loss=\"categorical_crossentropy\", metrics=[\"accuracy\"])"
   ]
  },
  {
   "cell_type": "code",
   "execution_count": 13,
   "id": "6ac1e4bb",
   "metadata": {},
   "outputs": [
    {
     "name": "stdout",
     "output_type": "stream",
     "text": [
      "Epoch 1/3\n",
      "270/270 [==============================] - 195s 721ms/step - loss: 0.7078 - accuracy: 0.7419 - val_loss: 8.8799e-04 - val_accuracy: 1.0000\n",
      "Epoch 2/3\n",
      "270/270 [==============================] - 121s 449ms/step - loss: 0.0633 - accuracy: 0.9782 - val_loss: 1.4448e-04 - val_accuracy: 1.0000\n",
      "Epoch 3/3\n",
      "270/270 [==============================] - 132s 489ms/step - loss: 0.0354 - accuracy: 0.9880 - val_loss: 1.1098e-05 - val_accuracy: 1.0000\n"
     ]
    },
    {
     "data": {
      "text/plain": [
       "<keras.callbacks.History at 0x236caa99dc0>"
      ]
     },
     "execution_count": 13,
     "metadata": {},
     "output_type": "execute_result"
    }
   ],
   "source": [
    "cnn.fit(training_set, validation_data = test_set, epochs=3)"
   ]
  },
  {
   "cell_type": "markdown",
   "id": "4db51c4e",
   "metadata": {},
   "source": [
    "## Testing the model on Test Set"
   ]
  },
  {
   "cell_type": "code",
   "execution_count": 14,
   "id": "4ac74db1",
   "metadata": {},
   "outputs": [
    {
     "data": {
      "text/plain": [
       "True"
      ]
     },
     "execution_count": 14,
     "metadata": {},
     "output_type": "execute_result"
    }
   ],
   "source": [
    "file = \"D:\\Mini_Project\\dataset\\single_prediction/sample8.jpg\"\n",
    "frame = cv2.imread(file)\n",
    "img = cv2.cvtColor(frame, cv2.COLOR_BGR2GRAY)\n",
    "blur = cv2.GaussianBlur(img, (5, 5), 2)\n",
    "th3 = cv2.adaptiveThreshold(\n",
    "    blur, 255, cv2.ADAPTIVE_THRESH_GAUSSIAN_C, cv2.THRESH_BINARY_INV, 11, 2\n",
    ")\n",
    "ret, res = cv2.threshold(th3, 70, 255, cv2.THRESH_BINARY_INV + cv2.THRESH_OTSU)\n",
    "cv2.imwrite(file, res)"
   ]
  },
  {
   "cell_type": "code",
   "execution_count": 15,
   "id": "9d78839e",
   "metadata": {},
   "outputs": [],
   "source": [
    "img = image.load_img(\"dataset/single_prediction/sample8.jpg\", target_size = (128, 128), color_mode='grayscale')\n",
    "test_image = image.img_to_array(img)\n",
    "test_image = np.expand_dims(test_image, axis=0)"
   ]
  },
  {
   "cell_type": "code",
   "execution_count": 16,
   "id": "0f46bef7",
   "metadata": {},
   "outputs": [
    {
     "name": "stdout",
     "output_type": "stream",
     "text": [
      "8\n"
     ]
    }
   ],
   "source": [
    "result = cnn.predict(test_image)\n",
    "lis = [i for i in range(9)]\n",
    "prediction={}\n",
    "prediction['blank'] = result[0][0]\n",
    "inde = 0\n",
    "sum = 0\n",
    "for i in lis:\n",
    "    prediction[i] = result[0][inde]\n",
    "    inde += 1\n",
    "max = 0\n",
    "output = 0\n",
    "for key, value in prediction.items():\n",
    "    if key == \"blank\":\n",
    "        continue\n",
    "    sum += value\n",
    "    if value > max:\n",
    "        max = value\n",
    "        output = key\n",
    "print(output+1)\n",
    "# print(prediction)\n",
    "# print(result)\n",
    "# print(sum)"
   ]
  },
  {
   "cell_type": "code",
   "execution_count": 17,
   "id": "20efec8e",
   "metadata": {},
   "outputs": [
    {
     "name": "stdout",
     "output_type": "stream",
     "text": [
      "Model Saved\n",
      "Weights saved\n"
     ]
    }
   ],
   "source": [
    "model_json = cnn.to_json()\n",
    "with open(\"model-bw.json\", \"w\") as json_file:\n",
    "    json_file.write(model_json)\n",
    "print('Model Saved')\n",
    "cnn.save_weights('model-bw.h5')\n",
    "print('Weights saved')"
   ]
  },
  {
   "cell_type": "code",
   "execution_count": null,
   "id": "8b14837c",
   "metadata": {},
   "outputs": [],
   "source": []
  }
 ],
 "metadata": {
  "kernelspec": {
   "display_name": "Python 3 (ipykernel)",
   "language": "python",
   "name": "python3"
  },
  "language_info": {
   "codemirror_mode": {
    "name": "ipython",
    "version": 3
   },
   "file_extension": ".py",
   "mimetype": "text/x-python",
   "name": "python",
   "nbconvert_exporter": "python",
   "pygments_lexer": "ipython3",
   "version": "3.9.7"
  }
 },
 "nbformat": 4,
 "nbformat_minor": 5
}
